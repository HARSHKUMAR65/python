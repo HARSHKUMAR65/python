{
 "cells": [
  {
   "cell_type": "code",
   "execution_count": 1,
   "metadata": {},
   "outputs": [],
   "source": [
    "l=[25,66,987,96,59,62,48,53,69,89]"
   ]
  },
  {
   "cell_type": "code",
   "execution_count": 5,
   "metadata": {},
   "outputs": [
    {
     "name": "stdout",
     "output_type": "stream",
     "text": [
      "the number 25 is not prime\n",
      "the number 25 is odd\n",
      "the number 66 is not prime\n",
      "the number 66 is even\n",
      "the number 987 is not prime\n",
      "the number 987 is odd\n",
      "the number 96 is not prime\n",
      "the number 96 is even\n",
      "the number 59 is prime\n",
      "the number 59 is odd\n",
      "the number 62 is not prime\n",
      "the number 62 is even\n",
      "the number 48 is not prime\n",
      "the number 48 is even\n",
      "the number 53 is prime\n",
      "the number 53 is odd\n",
      "the number 69 is not prime\n",
      "the number 69 is odd\n",
      "the number 89 is prime\n",
      "the number 89 is odd\n"
     ]
    }
   ],
   "source": [
    "for i in range(0,10):\n",
    "    for divisor in range(2,l[i]):\n",
    "        if l[i]%divisor==0:\n",
    "            print(\"the number {} is not prime\".format(l[i]))\n",
    "            break\n",
    "    if divisor==(l[i]-1):\n",
    "            print(\"the number {} is prime\".format(l[i]))\n",
    "    if l[i]%2==0:\n",
    "            print(\"the number {} is even\".format(l[i]))\n",
    "    else:\n",
    "            print(\"the number {} is odd\".format(l[i]))"
   ]
  },
  {
   "cell_type": "code",
   "execution_count": 7,
   "metadata": {},
   "outputs": [],
   "source": [
    "l1=['prime','even']"
   ]
  },
  {
   "cell_type": "code",
   "execution_count": 8,
   "metadata": {},
   "outputs": [],
   "source": [
    "l2=[[5,37,7,3,2],[36,58,66]]"
   ]
  },
  {
   "cell_type": "code",
   "execution_count": 11,
   "metadata": {},
   "outputs": [
    {
     "data": {
      "text/plain": [
       "{'prime': [5, 37, 7, 3, 2], 'even': [36, 58, 66]}"
      ]
     },
     "execution_count": 11,
     "metadata": {},
     "output_type": "execute_result"
    }
   ],
   "source": [
    "dict(zip(l1,l2))"
   ]
  },
  {
   "cell_type": "code",
   "execution_count": null,
   "metadata": {},
   "outputs": [],
   "source": [
    "def number (x):\n",
    "    "
   ]
  }
 ],
 "metadata": {
  "kernelspec": {
   "display_name": "Python 3",
   "language": "python",
   "name": "python3"
  },
  "language_info": {
   "codemirror_mode": {
    "name": "ipython",
    "version": 3
   },
   "file_extension": ".py",
   "mimetype": "text/x-python",
   "name": "python",
   "nbconvert_exporter": "python",
   "pygments_lexer": "ipython3",
   "version": "3.8.5"
  }
 },
 "nbformat": 4,
 "nbformat_minor": 4
}
